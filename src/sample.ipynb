{
 "cells": [
  {
   "cell_type": "code",
   "execution_count": 1,
   "id": "236bc025-7b25-4df2-a499-cbc6082fbf1c",
   "metadata": {},
   "outputs": [],
   "source": [
    "%load_ext autoreload\n",
    "%autoreload 2"
   ]
  },
  {
   "cell_type": "code",
   "execution_count": 43,
   "id": "a4ee637f-bc55-48d3-8684-c215f2c3f2c4",
   "metadata": {},
   "outputs": [],
   "source": [
    "import pandas as pd\n",
    "\n",
    "from process import preprocess, iteration_inference, processor"
   ]
  },
  {
   "cell_type": "code",
   "execution_count": 3,
   "id": "a20b2344-ae23-41c6-9197-a748cd333156",
   "metadata": {},
   "outputs": [],
   "source": [
    "pd.set_option('display.max_colwidth', 300)"
   ]
  },
  {
   "cell_type": "code",
   "execution_count": 15,
   "id": "8abfa165-6c53-4092-b17d-7a519cb5438f",
   "metadata": {},
   "outputs": [],
   "source": [
    "df = pd.read_parquet(\"../data/raw/test.parquet\")"
   ]
  },
  {
   "cell_type": "code",
   "execution_count": 16,
   "id": "ac831a37-4201-434c-9722-13ad949475c0",
   "metadata": {},
   "outputs": [
    {
     "data": {
      "text/html": [
       "<div>\n",
       "<style scoped>\n",
       "    .dataframe tbody tr th:only-of-type {\n",
       "        vertical-align: middle;\n",
       "    }\n",
       "\n",
       "    .dataframe tbody tr th {\n",
       "        vertical-align: top;\n",
       "    }\n",
       "\n",
       "    .dataframe thead th {\n",
       "        text-align: right;\n",
       "    }\n",
       "</style>\n",
       "<table border=\"1\" class=\"dataframe\">\n",
       "  <thead>\n",
       "    <tr style=\"text-align: right;\">\n",
       "      <th></th>\n",
       "      <th>title</th>\n",
       "      <th>content</th>\n",
       "    </tr>\n",
       "  </thead>\n",
       "  <tbody>\n",
       "    <tr>\n",
       "      <th>0</th>\n",
       "      <td>오픈메이트 컨설턴트 모집</td>\n",
       "      <td>자격 요건 : \\n            파이썬, R 고급 사용자\\n            공공 및 대기업 빅데이터 프로젝트 수행 및 제안서 작성 경험자 우대\\n            위치기반 데이터 분석 경험\\n</td>\n",
       "    </tr>\n",
       "    <tr>\n",
       "      <th>1</th>\n",
       "      <td>로앤컴퍼니 데이터 분석가 모집</td>\n",
       "      <td>자격 요건 : \\n            스타트업 경험자 우대\\n            GA 및 다양한 고객 행동 데이터 분석 경험 우대\\n            자연어 처리 능력자 우대\\n</td>\n",
       "    </tr>\n",
       "    <tr>\n",
       "      <th>2</th>\n",
       "      <td>잡코리아 데이터 사이언티스트</td>\n",
       "      <td>자격 요건 : \\n            추천 및 검색 프로젝트 경험자\\n            유저 행동 기반 모델링 경험자\\n            K8S 등 다양한 환경에서 ML프로젝트 경험자\\n            MLOps 구축 경험\\n            LLM 및 RAG 경험자 우대\\n            AI Agent를 활용한 서비스 배포 경험\\n</td>\n",
       "    </tr>\n",
       "  </tbody>\n",
       "</table>\n",
       "</div>"
      ],
      "text/plain": [
       "              title  \\\n",
       "0     오픈메이트 컨설턴트 모집   \n",
       "1  로앤컴퍼니 데이터 분석가 모집   \n",
       "2   잡코리아 데이터 사이언티스트   \n",
       "\n",
       "                                                                                                                                                                                                                 content  \n",
       "0                                                                                       자격 요건 : \\n            파이썬, R 고급 사용자\\n            공공 및 대기업 빅데이터 프로젝트 수행 및 제안서 작성 경험자 우대\\n            위치기반 데이터 분석 경험\\n              \n",
       "1                                                                                                    자격 요건 : \\n            스타트업 경험자 우대\\n            GA 및 다양한 고객 행동 데이터 분석 경험 우대\\n            자연어 처리 능력자 우대\\n              \n",
       "2  자격 요건 : \\n            추천 및 검색 프로젝트 경험자\\n            유저 행동 기반 모델링 경험자\\n            K8S 등 다양한 환경에서 ML프로젝트 경험자\\n            MLOps 구축 경험\\n            LLM 및 RAG 경험자 우대\\n            AI Agent를 활용한 서비스 배포 경험\\n              "
      ]
     },
     "execution_count": 16,
     "metadata": {},
     "output_type": "execute_result"
    }
   ],
   "source": [
    "df"
   ]
  },
  {
   "cell_type": "code",
   "execution_count": 50,
   "id": "a0a18859-4afb-4ec6-99da-26eff2225120",
   "metadata": {},
   "outputs": [
    {
     "name": "stdout",
     "output_type": "stream",
     "text": [
      "Running step: get_text_col\n",
      "Running step: remove_duplicates\n"
     ]
    }
   ],
   "source": [
    "df = preprocess(file_name = \"test\")"
   ]
  },
  {
   "cell_type": "code",
   "execution_count": 52,
   "id": "1a38658f-d495-4657-b2c1-9e416e8b8801",
   "metadata": {},
   "outputs": [
    {
     "name": "stdout",
     "output_type": "stream",
     "text": [
      "GLiNER 모델 결과\n"
     ]
    },
    {
     "data": {
      "text/html": [
       "<div>\n",
       "<style scoped>\n",
       "    .dataframe tbody tr th:only-of-type {\n",
       "        vertical-align: middle;\n",
       "    }\n",
       "\n",
       "    .dataframe tbody tr th {\n",
       "        vertical-align: top;\n",
       "    }\n",
       "\n",
       "    .dataframe thead th {\n",
       "        text-align: right;\n",
       "    }\n",
       "</style>\n",
       "<table border=\"1\" class=\"dataframe\">\n",
       "  <thead>\n",
       "    <tr style=\"text-align: right;\">\n",
       "      <th></th>\n",
       "      <th>task</th>\n",
       "      <th>tool</th>\n",
       "      <th>license</th>\n",
       "      <th>major</th>\n",
       "      <th>work</th>\n",
       "      <th>job</th>\n",
       "      <th>company</th>\n",
       "      <th>key</th>\n",
       "      <th>skill</th>\n",
       "    </tr>\n",
       "  </thead>\n",
       "  <tbody>\n",
       "    <tr>\n",
       "      <th>0</th>\n",
       "      <td>[데이터 분석, 빅데이터 프로젝트 수행, 제안서 작성]</td>\n",
       "      <td>[R]</td>\n",
       "      <td>[고급 사용자, 위치기반, 자격 요건]</td>\n",
       "      <td>[파이썬]</td>\n",
       "      <td>[]</td>\n",
       "      <td>[오픈메이트 컨설턴트]</td>\n",
       "      <td>[공공, 공공 및 대기업, 대기업]</td>\n",
       "      <td></td>\n",
       "      <td>NaN</td>\n",
       "    </tr>\n",
       "    <tr>\n",
       "      <th>0</th>\n",
       "      <td>[GA, 다양한 고객 행동, 데이터 분석]</td>\n",
       "      <td>NaN</td>\n",
       "      <td>[자격 요건]</td>\n",
       "      <td>NaN</td>\n",
       "      <td>[스타트업 경험자]</td>\n",
       "      <td>[데이터 분석, 데이터 분석가]</td>\n",
       "      <td>[로앤컴퍼니]</td>\n",
       "      <td></td>\n",
       "      <td>[자연어 처리 능력자]</td>\n",
       "    </tr>\n",
       "    <tr>\n",
       "      <th>0</th>\n",
       "      <td>[MLOps]</td>\n",
       "      <td>[AI Agent, AI Agent를]</td>\n",
       "      <td>NaN</td>\n",
       "      <td>[K8S, LLM, RAG]</td>\n",
       "      <td>[ML프로젝트 경험자, 프로젝트 경험자]</td>\n",
       "      <td>[데이터 사이언티스트]</td>\n",
       "      <td>[]</td>\n",
       "      <td></td>\n",
       "      <td>NaN</td>\n",
       "    </tr>\n",
       "  </tbody>\n",
       "</table>\n",
       "</div>"
      ],
      "text/plain": [
       "                             task                   tool  \\\n",
       "0  [데이터 분석, 빅데이터 프로젝트 수행, 제안서 작성]                    [R]   \n",
       "0         [GA, 다양한 고객 행동, 데이터 분석]                    NaN   \n",
       "0                         [MLOps]  [AI Agent, AI Agent를]   \n",
       "\n",
       "                 license            major                    work  \\\n",
       "0  [고급 사용자, 위치기반, 자격 요건]            [파이썬]                      []   \n",
       "0                [자격 요건]              NaN              [스타트업 경험자]   \n",
       "0                    NaN  [K8S, LLM, RAG]  [ML프로젝트 경험자, 프로젝트 경험자]   \n",
       "\n",
       "                 job              company key         skill  \n",
       "0       [오픈메이트 컨설턴트]  [공공, 공공 및 대기업, 대기업]               NaN  \n",
       "0  [데이터 분석, 데이터 분석가]              [로앤컴퍼니]      [자연어 처리 능력자]  \n",
       "0       [데이터 사이언티스트]                   []               NaN  "
      ]
     },
     "execution_count": 52,
     "metadata": {},
     "output_type": "execute_result"
    }
   ],
   "source": [
    "print(\"GLiNER 모델 결과\")\n",
    "iteration_inference(df, \"test\", model = \"gliner\")"
   ]
  },
  {
   "cell_type": "code",
   "execution_count": 54,
   "id": "945ecd4f-b8f9-43b9-940a-718e7e9f1665",
   "metadata": {},
   "outputs": [
    {
     "name": "stdout",
     "output_type": "stream",
     "text": [
      "LLM 모델 결과 - QWEN2.5:14b\n"
     ]
    },
    {
     "name": "stderr",
     "output_type": "stream",
     "text": [
      "/Users/chanjunkim/Documents/NER_PROJECT/src/inference/llm/get_llm.py:37: LangChainDeprecationWarning: The class `ChatOllama` was deprecated in LangChain 0.3.1 and will be removed in 1.0.0. An updated version of the class exists in the :class:`~langchain-ollama package and should be used instead. To use it run `pip install -U :class:`~langchain-ollama` and import as `from :class:`~langchain_ollama import ChatOllama``.\n",
      "  llm = ChatOllama(\n"
     ]
    },
    {
     "data": {
      "text/html": [
       "<div>\n",
       "<style scoped>\n",
       "    .dataframe tbody tr th:only-of-type {\n",
       "        vertical-align: middle;\n",
       "    }\n",
       "\n",
       "    .dataframe tbody tr th {\n",
       "        vertical-align: top;\n",
       "    }\n",
       "\n",
       "    .dataframe thead th {\n",
       "        text-align: right;\n",
       "    }\n",
       "</style>\n",
       "<table border=\"1\" class=\"dataframe\">\n",
       "  <thead>\n",
       "    <tr style=\"text-align: right;\">\n",
       "      <th></th>\n",
       "      <th>company</th>\n",
       "      <th>job</th>\n",
       "      <th>industry</th>\n",
       "      <th>exprience</th>\n",
       "      <th>tool</th>\n",
       "      <th>softskill</th>\n",
       "      <th>location</th>\n",
       "      <th>key</th>\n",
       "    </tr>\n",
       "  </thead>\n",
       "  <tbody>\n",
       "    <tr>\n",
       "      <th>1</th>\n",
       "      <td>[오픈메이트]</td>\n",
       "      <td>[데이터분석가, 컨설턴트]</td>\n",
       "      <td>[빅데이터, IT 컨설팅]</td>\n",
       "      <td>[빅데이터 프로젝트 수행, 공공기관 데이터 분석, 대기업 빅데이터 프로젝트 수행]</td>\n",
       "      <td>[Python, R, SQL]</td>\n",
       "      <td>[꼼꼼함, 논리적 사고력, 팀워크]</td>\n",
       "      <td>[서울특별시]</td>\n",
       "      <td></td>\n",
       "    </tr>\n",
       "    <tr>\n",
       "      <th>1</th>\n",
       "      <td>[로앤컴퍼니]</td>\n",
       "      <td>[데이터 분석가]</td>\n",
       "      <td>[IT, 데이터]</td>\n",
       "      <td>[스타트업 경험, GA 및 고객 행동 데이터 분석]</td>\n",
       "      <td>[GA]</td>\n",
       "      <td>[자연어 처리 능력, 꼼꼼함, 성실함]</td>\n",
       "      <td>[서울특별시]</td>\n",
       "      <td></td>\n",
       "    </tr>\n",
       "    <tr>\n",
       "      <th>1</th>\n",
       "      <td>[잡코리아]</td>\n",
       "      <td>[데이터 사이언티스트]</td>\n",
       "      <td>[금융, IT]</td>\n",
       "      <td>[추천 및 검색 프로젝트 경험, 유저 행동 기반 모델링 경험, K8S 등 다양한 환경에서 ML프로젝트 경험, MLOps 구축 경험, LLM 및 RAG 경험, AI Agent를 활용한 서비스 배포]</td>\n",
       "      <td>[Python, SQL, Kubernetes, Docker, Jupyter Notebook]</td>\n",
       "      <td>[꼼꼼함, 성실함, 부지런함, 적응력]</td>\n",
       "      <td>[서울특별시]</td>\n",
       "      <td></td>\n",
       "    </tr>\n",
       "  </tbody>\n",
       "</table>\n",
       "</div>"
      ],
      "text/plain": [
       "0  company             job        industry  \\\n",
       "1  [오픈메이트]  [데이터분석가, 컨설턴트]  [빅데이터, IT 컨설팅]   \n",
       "1  [로앤컴퍼니]       [데이터 분석가]       [IT, 데이터]   \n",
       "1   [잡코리아]    [데이터 사이언티스트]        [금융, IT]   \n",
       "\n",
       "0                                                                                                      exprience  \\\n",
       "1                                                                  [빅데이터 프로젝트 수행, 공공기관 데이터 분석, 대기업 빅데이터 프로젝트 수행]   \n",
       "1                                                                                   [스타트업 경험, GA 및 고객 행동 데이터 분석]   \n",
       "1  [추천 및 검색 프로젝트 경험, 유저 행동 기반 모델링 경험, K8S 등 다양한 환경에서 ML프로젝트 경험, MLOps 구축 경험, LLM 및 RAG 경험, AI Agent를 활용한 서비스 배포]   \n",
       "\n",
       "0                                                 tool              softskill  \\\n",
       "1                                     [Python, R, SQL]    [꼼꼼함, 논리적 사고력, 팀워크]   \n",
       "1                                                 [GA]  [자연어 처리 능력, 꼼꼼함, 성실함]   \n",
       "1  [Python, SQL, Kubernetes, Docker, Jupyter Notebook]  [꼼꼼함, 성실함, 부지런함, 적응력]   \n",
       "\n",
       "0 location key  \n",
       "1  [서울특별시]      \n",
       "1  [서울특별시]      \n",
       "1  [서울특별시]      "
      ]
     },
     "execution_count": 54,
     "metadata": {},
     "output_type": "execute_result"
    }
   ],
   "source": [
    "print(\"LLM 모델 결과 - QWEN2.5:14b\")\n",
    "iteration_inference(df, \"test\", model = \"llm\")"
   ]
  }
 ],
 "metadata": {
  "kernelspec": {
   "display_name": "Python(ner_inference)",
   "language": "python",
   "name": "ner_inference"
  },
  "language_info": {
   "codemirror_mode": {
    "name": "ipython",
    "version": 3
   },
   "file_extension": ".py",
   "mimetype": "text/x-python",
   "name": "python",
   "nbconvert_exporter": "python",
   "pygments_lexer": "ipython3",
   "version": "3.12.8"
  }
 },
 "nbformat": 4,
 "nbformat_minor": 5
}
